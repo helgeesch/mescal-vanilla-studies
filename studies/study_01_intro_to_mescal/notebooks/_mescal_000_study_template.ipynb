{
 "cells": [
  {
   "cell_type": "markdown",
   "id": "dae37a7380ad360d",
   "metadata": {},
   "source": "# MESCAL 000: Template Jupyter Notebook"
  },
  {
   "cell_type": "markdown",
   "id": "287911264fe3a47e",
   "metadata": {},
   "source": "## Introduction"
  },
  {
   "cell_type": "markdown",
   "id": "9c0cd4d8b2eb9da6",
   "metadata": {},
   "source": [
    "## Setup\n",
    "\n",
    "First, we need to set up the environment. If you are on Colab, the first cell will clone and install all dependencies. You will have to restart the session afterwards and continue with cell 2. If you are in a local environment, make sure that you have followed the Getting started steps in the README, so that mescal and all requirements are installed."
   ]
  },
  {
   "metadata": {
    "ExecuteTime": {
     "end_time": "2025-07-31T10:23:28.496884Z",
     "start_time": "2025-07-31T10:23:28.492467Z"
    }
   },
   "cell_type": "code",
   "source": [
    "import os\n",
    "\n",
    "if \"COLAB_RELEASE_TAG\" in os.environ:\n",
    "    !git clone --recursive https://github.com/helgeesch/mescal-vanilla-studies.git\n",
    "    %cd mescal-vanilla-studies/\n",
    "    \n",
    "    # Install packages:\n",
    "    !pip install git+https://github.com/helgeesch/mescal -U\n",
    "    !pip install git+https://github.com/helgeesch/mescal-pypsa -U\n",
    "    !pip install git+https://github.com/helgeesch/captain-arro -U\n",
    "    \n",
    "    # Install any other requirements\n",
    "    !pip install -r requirements.txt\n",
    "    print('✅ Setup complete. 🔁 Restart the session, then skip this cell and continue with the next cell.')\n",
    "else:\n",
    "    print(\"Running locally, let's continue.\")"
   ],
   "id": "83625ece69b66004",
   "outputs": [],
   "execution_count": 4
  },
  {
   "metadata": {
    "ExecuteTime": {
     "end_time": "2025-07-30T16:52:41.835134Z",
     "start_time": "2025-07-30T16:52:41.833428Z"
    }
   },
   "cell_type": "code",
   "source": [
    "import os\n",
    "\n",
    "if \"COLAB_RELEASE_TAG\" in os.environ:\n",
    "    import sys\n",
    "    sys.path.append('/content/mescal-vanilla-studies')\n",
    "    os.chdir('/content/mescal-vanilla-studies')\n",
    "else:\n",
    "    def setup_notebook_env():\n",
    "        \"\"\"Set working directory to repo root and ensure it's in sys.path.\"\"\"\n",
    "        import os\n",
    "        import sys\n",
    "        from pathlib import Path\n",
    "\n",
    "        def find_repo_root(start_path: Path) -> Path:\n",
    "            current = start_path.resolve()\n",
    "            while current != current.parent:\n",
    "                if (current / 'vanilla').exists():\n",
    "                    return current\n",
    "                current = current.parent\n",
    "            raise FileNotFoundError(f\"Repository root not found from: {start_path}\")\n",
    "\n",
    "        repo_root = find_repo_root(Path.cwd())\n",
    "        os.chdir(repo_root)\n",
    "        if str(repo_root) not in sys.path:\n",
    "            sys.path.insert(0, str(repo_root))\n",
    "\n",
    "    setup_notebook_env()\n",
    "\n",
    "try:\n",
    "    from mescal import StudyManager\n",
    "except ImportError:\n",
    "    raise ImportError(\"❌ 'mescal' not found. If you're running locally, make sure you've installed all dependencies as described in the README.\")\n",
    "\n",
    "if not os.path.isdir(\"studies\"):\n",
    "    raise RuntimeError(f\"❌ 'studies' folder not found. Make sure your working directory is set to the mescal-vanilla-studies root. Current working directory: {os.getcwd()}\")\n",
    "\n",
    "print(\"✅ Environment ready. Let’s go!\")"
   ],
   "id": "bba6085fbbfc611c",
   "outputs": [],
   "execution_count": 1
  },
  {
   "cell_type": "code",
   "id": "initial_id",
   "metadata": {
    "collapsed": true,
    "jupyter": {
     "outputs_hidden": true
    },
    "ExecuteTime": {
     "end_time": "2025-07-30T16:52:43.755316Z",
     "start_time": "2025-07-30T16:52:42.479064Z"
    }
   },
   "source": [
    "from mescal.utils.plotly_utils.plotly_theme import PlotlyTheme\n",
    "from vanilla.notebook_config import configure_clean_output_for_jupyter_notebook\n",
    "from vanilla.conditional_renderer import ConditionalRenderer\n",
    "\n",
    "configure_clean_output_for_jupyter_notebook()\n",
    "PlotlyTheme().apply()\n",
    "renderer = ConditionalRenderer()"
   ],
   "outputs": [],
   "execution_count": 2
  },
  {
   "metadata": {},
   "cell_type": "markdown",
   "source": [
    "## Key Takeaways\n",
    "\n",
    "- Bing\n",
    "- Bong"
   ],
   "id": "f67b3fb7fb0d744d"
  }
 ],
 "metadata": {
  "kernelspec": {
   "display_name": "Python 3 (ipykernel)",
   "language": "python",
   "name": "python3"
  },
  "language_info": {
   "codemirror_mode": {
    "name": "ipython",
    "version": 3
   },
   "file_extension": ".py",
   "mimetype": "text/x-python",
   "name": "python",
   "nbconvert_exporter": "python",
   "pygments_lexer": "ipython3",
   "version": "3.12.1"
  }
 },
 "nbformat": 4,
 "nbformat_minor": 5
}
