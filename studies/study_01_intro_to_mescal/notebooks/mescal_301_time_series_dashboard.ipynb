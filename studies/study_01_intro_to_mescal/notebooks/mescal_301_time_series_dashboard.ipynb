{
 "cells": [
  {
   "metadata": {},
   "cell_type": "markdown",
   "source": "# MESCAL 103: Time Series Dashboard",
   "id": "346e8cf2e4a3332"
  },
  {
   "metadata": {},
   "cell_type": "markdown",
   "source": [
    "## Introduction\n",
    "\n",
    "Besides providing a structured framework to process multi-scenario studies like presented in mescal_101 and mescal_102, MESCAL also holds many stand-alone modules that work even outside the MESCAL-framework.\n",
    "\n",
    "One of those modules is the TimeSeriesDashboard. The "
   ],
   "id": "37ea64a9258508cc"
  },
  {
   "cell_type": "code",
   "execution_count": null,
   "id": "initial_id",
   "metadata": {
    "collapsed": true
   },
   "outputs": [],
   "source": [
    ""
   ]
  }
 ],
 "metadata": {
  "kernelspec": {
   "display_name": "Python 3",
   "language": "python",
   "name": "python3"
  },
  "language_info": {
   "codemirror_mode": {
    "name": "ipython",
    "version": 2
   },
   "file_extension": ".py",
   "mimetype": "text/x-python",
   "name": "python",
   "nbconvert_exporter": "python",
   "pygments_lexer": "ipython2",
   "version": "2.7.6"
  }
 },
 "nbformat": 4,
 "nbformat_minor": 5
}
