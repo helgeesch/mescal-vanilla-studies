{
 "cells": [
  {
   "cell_type": "markdown",
   "id": "dae37a7380ad360d",
   "metadata": {},
   "source": [
    "# MESCAL 102: Advanced Data Fetching Techniques"
   ]
  },
  {
   "cell_type": "markdown",
   "id": "287911264fe3a47e",
   "metadata": {},
   "source": [
    "## Introduction\n",
    "\n",
    "Building on the StudyManager fundamentals, this notebook demonstrates MESCAL's advanced data fetching and transformation capabilities. These techniques significantly streamline multi-scenario analysis by leveraging pandas' power while abstracting away common boilerplate code.\n",
    "\n",
    "MESCAL's data handling utilities provide efficient ways to:\n",
    "- Work with multi-index DataFrames from scenario and comparison collections\n",
    "- Filter data using model properties\n",
    "- Aggregate data across complex dimensions\n",
    "- Combine scenarios and comparisons in unified analyses"
   ]
  },
  {
   "cell_type": "markdown",
   "id": "9c0cd4d8b2eb9da6",
   "metadata": {},
   "source": [
    "## Setup"
   ]
  },
  {
   "cell_type": "code",
   "execution_count": 1,
   "id": "initial_id",
   "metadata": {
    "ExecuteTime": {
     "end_time": "2025-03-03T09:46:01.777910Z",
     "start_time": "2025-03-03T09:46:00.582575Z"
    },
    "collapsed": true,
    "jupyter": {
     "outputs_hidden": true
    }
   },
   "outputs": [],
   "source": [
    "import os\n",
    "import logging\n",
    "import warnings\n",
    "import pandas as pd\n",
    "import pypsa\n",
    "from IPython.display import Image\n",
    "import plotly.express as px\n",
    "\n",
    "from mescal import StudyManager\n",
    "from mescal.utils.pandas_utils import flatten_df, prepend_model_prop_levels, filter_by_model_query\n",
    "from mescal.utils.plotly_utils.plotly_theme import PlotlyTheme\n",
    "from mescal_pypsa import PyPSADataset\n",
    "\n",
    "# Directory setup\n",
    "os.chdir(os.path.dirname(os.path.dirname(os.path.dirname(os.getcwd()))))\n",
    "\n",
    "# Configuration for cleaner output\n",
    "logging.basicConfig(level=logging.ERROR)\n",
    "warnings.filterwarnings(\"ignore\", category=DeprecationWarning)\n",
    "pd.set_option('display.max_columns', 6)\n",
    "pd.set_option('display.width', 1000)\n",
    "PlotlyTheme().apply()"
   ]
  },
  {
   "cell_type": "code",
   "execution_count": 2,
   "id": "19ba969c10beaa9",
   "metadata": {
    "ExecuteTime": {
     "end_time": "2025-03-03T09:46:02.647645Z",
     "start_time": "2025-03-03T09:46:01.778515Z"
    }
   },
   "outputs": [],
   "source": [
    "# Same study setup as in 101, only this time it's from a method so we can re-use it\n",
    "from studies.study_01_intro_to_mescal.scripts.setup_study_manager import get_scigrid_de_study_manager\n",
    "\n",
    "study = get_scigrid_de_study_manager()\n"
   ]
  },
  {
   "cell_type": "markdown",
   "id": "6e4bf10d05c5c220",
   "metadata": {},
   "source": [
    "## Working with Multi-Index DataFrames\n",
    "\n",
    "Fetching data across multiple scenarios naturally creates multi-index DataFrames. Let's examine and transform these structures:"
   ]
  },
  {
   "cell_type": "markdown",
   "id": "50adb5f21b92dcf9",
   "metadata": {},
   "source": [
    "### Calculating Averages Per Scenario"
   ]
  },
  {
   "cell_type": "code",
   "execution_count": 3,
   "id": "6ef5e1a3b9ee7fe4",
   "metadata": {
    "ExecuteTime": {
     "end_time": "2025-03-03T09:46:02.721829Z",
     "start_time": "2025-03-03T09:46:02.648236Z"
    }
   },
   "outputs": [
    {
     "name": "stdout",
     "output_type": "stream",
     "text": [
      "dataset    solar_150 vs base  solar_200 vs base  wind_150 vs base  wind_200 vs base\n",
      "Bus                                                                                \n",
      "1                   0.210744           0.230623         -6.644124         -7.292750\n",
      "10                  0.250483           0.214094         -6.220950         -8.214383\n",
      "100                -0.712512          -1.279986         -1.500320         -3.403255\n",
      "100_220kV          -0.717737          -1.288928         -1.496799         -3.412561\n",
      "101                 0.144366           0.100898         -6.115556         -7.510163\n",
      "...                      ...                ...               ...               ...\n",
      "96_220kV           -0.173702          -0.405244         -4.028766         -4.810695\n",
      "97                 -0.694532          -1.244591         -1.385540         -2.557227\n",
      "98                  0.166729           0.132677         -6.155495         -7.608517\n",
      "99                 -0.711075          -1.284553         -1.324793         -3.213848\n",
      "99_220kV           -0.711609          -1.284904         -1.338588         -3.229785\n",
      "\n",
      "[585 rows x 4 columns]\n"
     ]
    }
   ],
   "source": [
    "df_price_change = study.comp.fetch('buses_t.marginal_price')\n",
    "df_price_change_mean = df_price_change.mean().unstack('dataset')\n",
    "print(df_price_change_mean)"
   ]
  },
  {
   "cell_type": "markdown",
   "id": "3799d7b5cbdd5510",
   "metadata": {},
   "source": [
    "The result is a DataFrame showing the average price change per bus for each scenario comparison."
   ]
  },
  {
   "cell_type": "markdown",
   "id": "d50f2381f10d403e",
   "metadata": {},
   "source": [
    "### Combining Scenarios and Comparisons\n",
    "\n",
    "To analyze both raw values and deltas in one operation:"
   ]
  },
  {
   "cell_type": "code",
   "execution_count": 4,
   "id": "52b4f5d32d018404",
   "metadata": {
    "ExecuteTime": {
     "end_time": "2025-03-03T09:46:02.799834Z",
     "start_time": "2025-03-03T09:46:02.722453Z"
    }
   },
   "outputs": [
    {
     "name": "stdout",
     "output_type": "stream",
     "text": [
      "type                 scenario                       ...       comparison                    \n",
      "dataset                  base                       ... wind_200 vs base                    \n",
      "Bus                         1        10        100  ...               98        99  99_220kV\n",
      "snapshot                                            ...                                     \n",
      "2011-01-01 00:00:00 -0.439753  5.772135  23.120287  ...        -1.818518  0.104774  0.108749\n",
      "2011-01-01 01:00:00 -0.578449  6.100599  22.531275  ...        -2.017386 -0.806122 -0.815207\n",
      "2011-01-01 02:00:00 -0.582087  6.071084  22.106222  ...        -2.007054 -2.256636 -2.262590\n",
      "2011-01-01 03:00:00 -0.596210  6.139415  21.498113  ...        -2.147870 -3.477572 -3.480850\n",
      "2011-01-01 04:00:00 -0.609622  6.164469  20.391625  ...        -2.151701 -5.055950 -5.051421\n",
      "\n",
      "[5 rows x 5265 columns]\n"
     ]
    }
   ],
   "source": [
    "df_price_all = study.scen_comp.fetch('buses_t.marginal_price')\n",
    "print(df_price_all.head())"
   ]
  },
  {
   "cell_type": "markdown",
   "id": "c84f698d3981d0b8",
   "metadata": {},
   "source": [
    "This DataFrame contains both the scenario data and comparison data, distinguished by the 'type' level in the MultiIndex."
   ]
  },
  {
   "cell_type": "markdown",
   "id": "b5e580e248ffaf6d",
   "metadata": {},
   "source": [
    "### Unified Analysis\n",
    "\n",
    "We can perform operations on this unified structure:"
   ]
  },
  {
   "cell_type": "code",
   "execution_count": 5,
   "id": "b68b60f156318d36",
   "metadata": {
    "ExecuteTime": {
     "end_time": "2025-03-03T09:46:02.804495Z",
     "start_time": "2025-03-03T09:46:02.800532Z"
    }
   },
   "outputs": [
    {
     "name": "stdout",
     "output_type": "stream",
     "text": [
      "dataset         base  solar_150  solar_150 vs base  ...  wind_150 vs base   wind_200  wind_200 vs base\n",
      "Bus                                                 ...                                               \n",
      "1           7.676257   7.887001           0.210744  ...         -6.644124   0.383507         -7.292750\n",
      "10         10.994609  11.245092           0.250483  ...         -6.220950   2.780226         -8.214383\n",
      "100        21.880995  21.168483          -0.712512  ...         -1.500320  18.477740         -3.403255\n",
      "100_220kV  21.977638  21.259901          -0.717737  ...         -1.496799  18.565077         -3.412561\n",
      "101         8.245265   8.389631           0.144366  ...         -6.115556   0.735102         -7.510163\n",
      "...              ...        ...                ...  ...               ...        ...               ...\n",
      "96_220kV   13.212272  13.038570          -0.173702  ...         -4.028766   8.401577         -4.810695\n",
      "97         21.288071  20.593539          -0.694532  ...         -1.385540  18.730844         -2.557227\n",
      "98          8.576509   8.743238           0.166729  ...         -6.155495   0.967991         -7.608517\n",
      "99         22.222045  21.510970          -0.711075  ...         -1.324793  19.008197         -3.213848\n",
      "99_220kV   22.202444  21.490835          -0.711609  ...         -1.338588  18.972659         -3.229785\n",
      "\n",
      "[585 rows x 9 columns]\n"
     ]
    }
   ],
   "source": [
    "df_price_all_mean = df_price_all.mean().droplevel('type').unstack('dataset').sort_index(axis=1)\n",
    "print(df_price_all_mean)"
   ]
  },
  {
   "cell_type": "markdown",
   "id": "8ebc3d38b975ddeb",
   "metadata": {},
   "source": [
    "This creates a table with average prices and deltas side by side, sorted alphabetically by dataset name."
   ]
  },
  {
   "cell_type": "markdown",
   "id": "3940a48785fd10c7",
   "metadata": {},
   "source": [
    "## Integrating Model Data with Time Series\n",
    "\n",
    "A powerful MESCAL capability is the integration of static model data with time series data."
   ]
  },
  {
   "cell_type": "markdown",
   "id": "dd83cce2a350adf8",
   "metadata": {},
   "source": [
    "### Accessing Model Data"
   ]
  },
  {
   "cell_type": "code",
   "execution_count": 6,
   "id": "5a49df3b7f46836f",
   "metadata": {
    "ExecuteTime": {
     "end_time": "2025-03-03T09:46:02.931064Z",
     "start_time": "2025-03-03T09:46:02.805053Z"
    }
   },
   "outputs": [
    {
     "name": "stdout",
     "output_type": "stream",
     "text": [
      "           v_nom type          x  ...  ref                   location control_area\n",
      "Bus                               ...                                             \n",
      "1          220.0        9.522576  ...        POINT (9.52258 52.36041)     TenneTDE\n",
      "2          380.0        9.113210  ...        POINT (9.11321 52.54385)     TenneTDE\n",
      "3          380.0        9.389745  ...        POINT (9.38975 52.02631)     TenneTDE\n",
      "4          380.0        9.125266  ...        POINT (9.12527 52.53826)     TenneTDE\n",
      "5          380.0       10.366275  ...       POINT (10.36627 52.28465)     TenneTDE\n",
      "...          ...  ...        ...  ...  ...                        ...          ...\n",
      "404_220kV  220.0        8.232094  ...        POINT (8.23209 47.55614)   TransnetBW\n",
      "413_220kV  220.0        8.673717  ...        POINT (8.67372 49.29044)   TransnetBW\n",
      "421_220kV  220.0        9.091835  ...        POINT (9.09184 49.29462)   TransnetBW\n",
      "450_220kV  220.0        7.416708  ...        POINT (7.41671 51.45705)      Amprion\n",
      "458_220kV  220.0        7.419464  ...        POINT (7.41946 51.45751)      Amprion\n",
      "\n",
      "[585 rows x 21 columns]\n"
     ]
    }
   ],
   "source": [
    "buses_model_df = study.scen.get_dataset('base').fetch('buses')\n",
    "print(buses_model_df)"
   ]
  },
  {
   "cell_type": "markdown",
   "id": "72d549b4e12813af",
   "metadata": {},
   "source": [
    "### Filtering by Model Properties\n",
    "\n",
    "Let's filter our time series to include only high voltage buses (v_nom >= 380 kV):"
   ]
  },
  {
   "cell_type": "code",
   "execution_count": 7,
   "id": "7ceb8d40d892a2b8",
   "metadata": {
    "ExecuteTime": {
     "end_time": "2025-03-03T09:46:02.948826Z",
     "start_time": "2025-03-03T09:46:02.931616Z"
    }
   },
   "outputs": [
    {
     "name": "stdout",
     "output_type": "stream",
     "text": [
      "type                 scenario                       ...       comparison                    \n",
      "dataset                  base                       ... wind_200 vs base                    \n",
      "Bus                        10        100       101  ...               97        98        99\n",
      "snapshot                                            ...                                     \n",
      "2011-01-01 00:00:00  5.772135  23.120287  1.358870  ...        -1.095655 -1.818518  0.104774\n",
      "2011-01-01 01:00:00  6.100599  22.531275  1.347486  ...         0.510926 -2.017386 -0.806122\n",
      "2011-01-01 02:00:00  6.071084  22.106222  1.344766  ...        -1.208963 -2.007054 -2.256636\n",
      "2011-01-01 03:00:00  6.139415  21.498113  1.376138  ...        -2.351651 -2.147870 -3.477572\n",
      "2011-01-01 04:00:00  6.164469  20.391625  1.405119  ...        -5.122186 -2.151701 -5.055950\n",
      "\n",
      "[5 rows x 2592 columns]\n"
     ]
    }
   ],
   "source": [
    "filtered_price_df = filter_by_model_query(df_price_all, buses_model_df, 'v_nom >= 380')\n",
    "print(filtered_price_df.head())"
   ]
  },
  {
   "cell_type": "markdown",
   "id": "6826bcec5e71b452",
   "metadata": {},
   "source": [
    "The `filter_by_model_query` utility applies pandas query syntax to filter time series based on model properties."
   ]
  },
  {
   "cell_type": "markdown",
   "id": "f01511bbb0dea15",
   "metadata": {},
   "source": [
    "### Prepending Model Properties\n",
    "\n",
    "We can add model properties as additional index levels:"
   ]
  },
  {
   "cell_type": "code",
   "execution_count": 8,
   "id": "95f63c7f0a478ea4",
   "metadata": {
    "ExecuteTime": {
     "end_time": "2025-03-03T09:46:02.954012Z",
     "start_time": "2025-03-03T09:46:02.949359Z"
    }
   },
   "outputs": [
    {
     "name": "stdout",
     "output_type": "stream",
     "text": [
      "control_area          50Hertz    Amprion   50Hertz  ...         TenneTDE          50Hertz          Amprion\n",
      "type                 scenario   scenario  scenario  ...       comparison       comparison       comparison\n",
      "dataset                  base       base      base  ... wind_200 vs base wind_200 vs base wind_200 vs base\n",
      "Bus                        10        100       101  ...               97               98               99\n",
      "snapshot                                            ...                                                   \n",
      "2011-01-01 00:00:00  5.772135  23.120287  1.358870  ...        -1.095655        -1.818518         0.104774\n",
      "2011-01-01 01:00:00  6.100599  22.531275  1.347486  ...         0.510926        -2.017386        -0.806122\n",
      "2011-01-01 02:00:00  6.071084  22.106222  1.344766  ...        -1.208963        -2.007054        -2.256636\n",
      "2011-01-01 03:00:00  6.139415  21.498113  1.376138  ...        -2.351651        -2.147870        -3.477572\n",
      "2011-01-01 04:00:00  6.164469  20.391625  1.405119  ...        -5.122186        -2.151701        -5.055950\n",
      "\n",
      "[5 rows x 2592 columns]\n"
     ]
    }
   ],
   "source": [
    "price_with_control_area = prepend_model_prop_levels(filtered_price_df, buses_model_df, 'control_area')\n",
    "print(price_with_control_area.head())"
   ]
  },
  {
   "cell_type": "markdown",
   "id": "86829992d6369676",
   "metadata": {},
   "source": [
    "This operation adds the 'control_area' property from the bus model as a new level in our multi-index DataFrame."
   ]
  },
  {
   "cell_type": "markdown",
   "id": "e295c06a4286d6dd",
   "metadata": {},
   "source": [
    "### Aggregating by Model Properties\n",
    "\n",
    "Now we can efficiently aggregate by control area:"
   ]
  },
  {
   "cell_type": "code",
   "execution_count": 9,
   "id": "eab3713ec0ce1cf4",
   "metadata": {
    "ExecuteTime": {
     "end_time": "2025-03-03T09:46:02.957665Z",
     "start_time": "2025-03-03T09:46:02.954495Z"
    }
   },
   "outputs": [
    {
     "name": "stdout",
     "output_type": "stream",
     "text": [
      "control_area         50Hertz    Amprion   TenneTDE  TransnetBW\n",
      "dataset                                                       \n",
      "base               11.657645  18.804042  15.284996   23.333147\n",
      "solar_150          11.628050  18.179100  14.830030   22.741469\n",
      "solar_150 vs base  -0.029595  -0.624942  -0.454965   -0.591678\n",
      "solar_200          11.448025  17.720580  14.463570   22.177620\n",
      "solar_200 vs base  -0.209620  -1.083462  -0.821425   -1.155527\n",
      "wind_150            7.087738  16.973092  12.332776   22.664264\n",
      "wind_150 vs base   -4.569907  -1.830950  -2.952220   -0.668883\n",
      "wind_200            4.765799  15.546364  10.669218   21.040701\n",
      "wind_200 vs base   -6.891846  -3.257678  -4.615778   -2.292446\n"
     ]
    }
   ],
   "source": [
    "price_by_control_area = price_with_control_area.mean().groupby(level=['control_area', 'dataset']).mean().unstack('control_area')\n",
    "print(price_by_control_area)"
   ]
  },
  {
   "cell_type": "markdown",
   "id": "68abc37327ffe4c8",
   "metadata": {},
   "source": [
    "## Sophisticated Visualization Example\n",
    "\n",
    "Let's demonstrate these techniques with a more sophisticated visualization. We'll create a boxplot showing the distribution of hourly prices by control area and scenario:"
   ]
  },
  {
   "cell_type": "code",
   "execution_count": 10,
   "id": "88c05acb55c0d68",
   "metadata": {
    "ExecuteTime": {
     "end_time": "2025-03-03T09:46:03.771357Z",
     "start_time": "2025-03-03T09:46:02.959293Z"
    }
   },
   "outputs": [
    {
     "data": {
      "image/png": "[encoded data removed]",
      "text/plain": [
       "<IPython.core.display.Image object>"
      ]
     },
     "execution_count": 10,
     "metadata": {},
     "output_type": "execute_result"
    }
   ],
   "source": [
    "buses_model_df = study.scen.get_dataset('base').fetch('buses')\n",
    "data = study.scen_comp.fetch('buses_t.marginal_price')\n",
    "data = filter_by_model_query(data, buses_model_df, query='v_nom >= 380')\n",
    "data = prepend_model_prop_levels(data, buses_model_df, 'control_area')\n",
    "data = data.T.groupby(level=['dataset', 'control_area']).mean().T\n",
    "data_flat = flatten_df(data)\n",
    "fig = px.box(\n",
    "    data_frame=data_flat,\n",
    "    x='control_area',\n",
    "    color='dataset',\n",
    "    y='value',\n",
    "    category_orders={'control_area': ['Amprion', 'TransnetBW', 'TenneTDE', '50Hertz']},\n",
    "    labels={'value': 'Hourly marginal price [€/MWh]'},\n",
    ")\n",
    "fig.update_traces(boxmean=True)\n",
    "fig.update_layout(title='<b>Distribution of hourly price occurrences per scenario (price change per comparison)</b>', width=1200)\n",
    "fig.update_xaxes(title=None)\n",
    "\n",
    "\n",
    "# Save and display the image (using this only so that the picture is shown on GitHub)\n",
    "image_path = study.export_path('price_boxplot.png')\n",
    "fig.update_layout(height=600, width=1200)\n",
    "fig.write_image(image_path)\n",
    "Image(image_path)\n",
    "\n",
    "# fig.show()  # Use this instead when you are running locally and want to have full interactivity in the plot"
   ]
  },
  {
   "cell_type": "markdown",
   "id": "a083003e2dd6e22b",
   "metadata": {},
   "source": [
    "## Advanced Transformation Pipeline\n",
    "\n",
    "Let's trace through a complete data transformation pipeline that demonstrates MESCAL's efficiency:"
   ]
  },
  {
   "cell_type": "code",
   "execution_count": 12,
   "id": "699bee7187d0a48e",
   "metadata": {
    "ExecuteTime": {
     "end_time": "2025-03-03T09:48:02.389944Z",
     "start_time": "2025-03-03T09:48:02.163012Z"
    }
   },
   "outputs": [
    {
     "name": "stdout",
     "output_type": "stream",
     "text": [
      "                                     mean       std        min        max\n",
      "dataset           control_area                                           \n",
      "base              50Hertz       11.657645  4.898477   7.536946  22.367118\n",
      "                  Amprion       18.804042  3.200822  14.203696  23.352252\n",
      "                  TenneTDE      15.284996  4.839524   8.528858  22.238178\n",
      "                  TransnetBW    23.333147  2.799360  19.340758  25.851732\n",
      "solar_150         50Hertz       11.628050  4.882195   7.616330  22.173180\n",
      "                  Amprion       18.179100  3.853877  12.146565  23.361021\n",
      "                  TenneTDE      14.830030  5.304740   7.223666  22.119134\n",
      "                  TransnetBW    22.741469  3.428135  16.896716  25.850474\n",
      "solar_150 vs base 50Hertz       -0.029595  0.171920  -0.479044   0.261827\n",
      "                  Amprion       -0.624942  0.918766  -2.567606   0.157824\n",
      "                  TenneTDE      -0.454965  0.770981  -2.298001   0.484883\n",
      "                  TransnetBW    -0.591678  1.017996  -4.115210   0.065954\n",
      "solar_200         50Hertz       11.448025  4.873367   6.854107  21.823334\n",
      "                  Amprion       17.720580  4.270065  11.023602  23.250576\n",
      "                  TenneTDE      14.463570  5.558940   6.534276  22.052944\n",
      "                  TransnetBW    22.177620  4.143174  14.744938  25.850372\n",
      "solar_200 vs base 50Hertz       -0.209620  0.247018  -0.812198   0.268009\n",
      "                  Amprion       -1.083462  1.470448  -4.480616   0.099372\n",
      "                  TenneTDE      -0.821425  1.220437  -3.984937   0.524086\n",
      "                  TransnetBW    -1.155527  1.658060  -4.964659   0.177578\n",
      "wind_150          50Hertz        7.087738  2.572691   4.442086  14.417100\n",
      "                  Amprion       16.973092  2.468944  12.684241  20.197305\n",
      "                  TenneTDE      12.332776  3.101766   7.424682  17.277102\n",
      "                  TransnetBW    22.664264  3.346420  18.083046  25.879449\n",
      "wind_150 vs base  50Hertz       -4.569907  2.687352  -8.674692  -1.054884\n",
      "                  Amprion       -1.830950  1.360582  -3.565816   0.881127\n",
      "                  TenneTDE      -2.952220  2.143834  -6.159601  -0.075203\n",
      "                  TransnetBW    -0.668883  1.014195  -4.205612   0.135676\n",
      "wind_200          50Hertz        4.765799  2.160594   2.005988   8.848858\n",
      "                  Amprion       15.546364  3.183015  10.261299  19.354840\n",
      "                  TenneTDE      10.669218  3.488676   5.135119  15.777315\n",
      "                  TransnetBW    21.040701  5.060456  12.374443  25.935143\n",
      "wind_200 vs base  50Hertz       -6.891846  2.991629 -13.518259  -2.810534\n",
      "                  Amprion       -3.257678  1.231673  -5.057282   0.263154\n",
      "                  TenneTDE      -4.615778  2.107637  -8.368801  -0.593846\n",
      "                  TransnetBW    -2.292446  2.495500  -7.521899   0.191369\n"
     ]
    }
   ],
   "source": [
    "# Start with raw data\n",
    "df_raw = study.scen_comp.fetch('buses_t.marginal_price')\n",
    "\n",
    "# Filter to high voltage buses\n",
    "buses_model_df = study.scen.get_dataset('base').fetch('buses')\n",
    "df_filtered = filter_by_model_query(df_raw, buses_model_df, 'v_nom >= 380')\n",
    "\n",
    "# Add control area information\n",
    "df_with_areas = prepend_model_prop_levels(df_filtered, buses_model_df, 'control_area')\n",
    "\n",
    "# Calculate hourly area prices\n",
    "hourly_area_prices = df_with_areas.T.groupby(['dataset', 'control_area']).mean().T.unstack()\n",
    "\n",
    "# Reshape for analysis\n",
    "area_price_stats = hourly_area_prices.groupby(['dataset', 'control_area']).agg(['mean', 'std', 'min', 'max'])\n",
    "\n",
    "print(area_price_stats)"
   ]
  },
  {
   "cell_type": "markdown",
   "id": "cae8f1ef1077c3ea",
   "metadata": {},
   "source": [
    "What would normally take dozens of lines of data manipulation code is condensed into a few expressive operations that maintain the relationships between different types of data."
   ]
  },
  {
   "cell_type": "markdown",
   "id": "3bd1390aaaff8db",
   "metadata": {},
   "source": [
    "## Key Takeaways\n",
    "\n",
    "- **Unified Analysis**: Work with scenarios and comparisons in the same analytical framework\n",
    "- **Model and Time-Series Data Fetching**: Unified framework for fetching model and time-series data\n",
    "- **Useful Integration Utilities**: MESCAL provides tools like `filter_by_model_query` and `prepend_model_prop_levels` that efficiently establish relationships between model properties and time series data and provide frequently needed filtering and property mapping features\n",
    "\n",
    "These capabilities make MESCAL particularly powerful for complex multi-scenario analyses that would otherwise require extensive custom code."
   ]
  }
 ],
 "metadata": {
  "kernelspec": {
   "display_name": "Python 3 (ipykernel)",
   "language": "python",
   "name": "python3"
  },
  "language_info": {
   "codemirror_mode": {
    "name": "ipython",
    "version": 3
   },
   "file_extension": ".py",
   "mimetype": "text/x-python",
   "name": "python",
   "nbconvert_exporter": "python",
   "pygments_lexer": "ipython3",
   "version": "3.12.1"
  }
 },
 "nbformat": 4,
 "nbformat_minor": 5
}
