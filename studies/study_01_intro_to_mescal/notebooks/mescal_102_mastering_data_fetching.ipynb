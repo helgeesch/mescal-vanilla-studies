{
 "cells": [
  {
   "cell_type": "markdown",
   "id": "dae37a7380ad360d",
   "metadata": {},
   "source": [
    "# MESCAL 102: Advanced Data Fetching Techniques"
   ]
  },
  {
   "cell_type": "markdown",
   "id": "287911264fe3a47e",
   "metadata": {},
   "source": [
    "## Introduction\n",
    "\n",
    "Building on the StudyManager fundamentals, this notebook demonstrates MESCAL's advanced data fetching and transformation capabilities. These techniques significantly streamline multi-scenario analysis by leveraging pandas' power while abstracting away common boilerplate code.\n",
    "\n",
    "MESCAL's data handling utilities provide efficient ways to:\n",
    "- Work with multi-index DataFrames from scenario and comparison collections\n",
    "- Filter data using model properties\n",
    "- Aggregate data across complex dimensions\n",
    "- Combine scenarios and comparisons in unified analyses"
   ]
  },
  {
   "cell_type": "markdown",
   "id": "9c0cd4d8b2eb9da6",
   "metadata": {},
   "source": [
    "## Setup\n",
    "First, we need to set up the environment. If you are on Colab, the first cell will clone and install all dependencies. You will have to restart the session afterwards and continue with cell 2. If you are in a local environment, make sure that you have followed the Getting started steps in the README, so that mescal and all requirements are installed."
   ]
  },
  {
   "metadata": {
    "ExecuteTime": {
     "end_time": "2025-07-31T13:08:08.699914Z",
     "start_time": "2025-07-31T13:08:08.696572Z"
    }
   },
   "cell_type": "code",
   "source": [
    "import os\n",
    "\n",
    "if \"COLAB_RELEASE_TAG\" in os.environ:\n",
    "    !git clone --recursive https://github.com/helgeesch/mescal-vanilla-studies.git\n",
    "    %cd mescal-vanilla-studies/\n",
    "    \n",
    "    # Install packages:\n",
    "    !pip install git+https://github.com/helgeesch/mescal -U\n",
    "    !pip install git+https://github.com/helgeesch/mescal-pypsa -U\n",
    "    !pip install git+https://github.com/helgeesch/captain-arro -U\n",
    "    \n",
    "    # Install any other requirements\n",
    "    !pip install -r requirements.txt\n",
    "    print('✅ Setup complete. 🔁 Restart the session, then skip this cell and continue with the next cell.')\n",
    "else:\n",
    "    print(\"Running locally, let's continue.\")"
   ],
   "id": "bba6085fbbfc611c",
   "outputs": [
    {
     "name": "stdout",
     "output_type": "stream",
     "text": [
      "Running locally, let's continue.\n"
     ]
    }
   ],
   "execution_count": 1
  },
  {
   "metadata": {
    "ExecuteTime": {
     "end_time": "2025-07-31T13:08:09.331707Z",
     "start_time": "2025-07-31T13:08:08.709461Z"
    }
   },
   "cell_type": "code",
   "source": [
    "import os\n",
    "\n",
    "if \"COLAB_RELEASE_TAG\" in os.environ:\n",
    "    import sys\n",
    "    sys.path.append('/content/mescal-vanilla-studies')\n",
    "    os.chdir('/content/mescal-vanilla-studies')\n",
    "else:\n",
    "    def setup_notebook_env():\n",
    "        \"\"\"Set working directory to repo root and ensure it's in sys.path.\"\"\"\n",
    "        import os\n",
    "        import sys\n",
    "        from pathlib import Path\n",
    "\n",
    "        def find_repo_root(start_path: Path) -> Path:\n",
    "            current = start_path.resolve()\n",
    "            while current != current.parent:\n",
    "                if (current / 'vanilla').exists():\n",
    "                    return current\n",
    "                current = current.parent\n",
    "            raise FileNotFoundError(f\"Repository root not found from: {start_path}\")\n",
    "\n",
    "        repo_root = find_repo_root(Path.cwd())\n",
    "        os.chdir(repo_root)\n",
    "        if str(repo_root) not in sys.path:\n",
    "            sys.path.insert(0, str(repo_root))\n",
    "\n",
    "    setup_notebook_env()\n",
    "\n",
    "try:\n",
    "    from mescal import StudyManager\n",
    "except ImportError:\n",
    "    raise ImportError(\"❌ 'mescal' not found. If you're running locally, make sure you've installed all dependencies as described in the README.\")\n",
    "\n",
    "if not os.path.isdir(\"studies\"):\n",
    "    raise RuntimeError(f\"❌ 'studies' folder not found. Make sure your working directory is set to the mescal-vanilla-studies root. Current working directory: {os.getcwd()}\")\n",
    "\n",
    "print(\"✅ Environment ready. Let’s go!\")"
   ],
   "id": "7826992e47314925",
   "outputs": [
    {
     "name": "stdout",
     "output_type": "stream",
     "text": [
      "✅ Environment ready. Let’s go!\n"
     ]
    }
   ],
   "execution_count": 2
  },
  {
   "cell_type": "code",
   "id": "initial_id",
   "metadata": {
    "collapsed": true,
    "jupyter": {
     "outputs_hidden": true
    },
    "ExecuteTime": {
     "end_time": "2025-07-31T13:08:09.466007Z",
     "start_time": "2025-07-31T13:08:09.332690Z"
    }
   },
   "source": [
    "import plotly.express as px\n",
    "\n",
    "from mescal.utils.pandas_utils import flatten_df, prepend_model_prop_levels, filter_by_model_query\n",
    "from mescal.utils.plotly_utils.plotly_theme import PlotlyTheme\n",
    "from vanilla.notebook_config import configure_clean_output_for_jupyter_notebook\n",
    "from vanilla.conditional_renderer import ConditionalRenderer\n",
    "\n",
    "configure_clean_output_for_jupyter_notebook()\n",
    "PlotlyTheme().apply()\n",
    "renderer = ConditionalRenderer()"
   ],
   "outputs": [],
   "execution_count": 3
  },
  {
   "cell_type": "code",
   "id": "19ba969c10beaa9",
   "metadata": {
    "ExecuteTime": {
     "end_time": "2025-07-31T13:08:10.426136Z",
     "start_time": "2025-07-31T13:08:09.466546Z"
    }
   },
   "source": [
    "# Same study setup as in 101, only this time it's from a method so we can re-use it\n",
    "from studies.study_01_intro_to_mescal.scripts.setup_study_manager import get_scigrid_de_study_manager\n",
    "\n",
    "study = get_scigrid_de_study_manager()\n"
   ],
   "outputs": [],
   "execution_count": 4
  },
  {
   "cell_type": "markdown",
   "id": "6e4bf10d05c5c220",
   "metadata": {},
   "source": [
    "## Working with Multi-Index DataFrames\n",
    "\n",
    "Fetching data across multiple scenarios naturally creates multi-index DataFrames. Let's examine and transform these structures:"
   ]
  },
  {
   "cell_type": "markdown",
   "id": "50adb5f21b92dcf9",
   "metadata": {},
   "source": "### Calculating Averages Per Scenario Comparison"
  },
  {
   "cell_type": "code",
   "id": "6ef5e1a3b9ee7fe4",
   "metadata": {
    "ExecuteTime": {
     "end_time": "2025-07-31T13:08:10.504284Z",
     "start_time": "2025-07-31T13:08:10.427478Z"
    }
   },
   "source": [
    "df_price_change = study.comp.fetch('buses_t.marginal_price')\n",
    "df_price_change_mean = df_price_change.mean().unstack('dataset')\n",
    "print(df_price_change_mean)"
   ],
   "outputs": [
    {
     "name": "stdout",
     "output_type": "stream",
     "text": [
      "dataset    solar_150 vs base  solar_200 vs base  wind_150 vs base  wind_200 vs base\n",
      "Bus                                                                                \n",
      "1                       0.21               0.23             -6.64             -7.29\n",
      "10                      0.25               0.21             -6.22             -8.21\n",
      "100                    -0.71              -1.28             -1.50             -3.40\n",
      "100_220kV              -0.72              -1.29             -1.50             -3.41\n",
      "101                     0.14               0.10             -6.12             -7.51\n",
      "...                      ...                ...               ...               ...\n",
      "96_220kV               -0.17              -0.41             -4.03             -4.81\n",
      "97                     -0.69              -1.24             -1.39             -2.56\n",
      "98                      0.17               0.13             -6.16             -7.61\n",
      "99                     -0.71              -1.28             -1.32             -3.21\n",
      "99_220kV               -0.71              -1.28             -1.34             -3.23\n",
      "\n",
      "[585 rows x 4 columns]\n"
     ]
    }
   ],
   "execution_count": 5
  },
  {
   "cell_type": "markdown",
   "id": "3799d7b5cbdd5510",
   "metadata": {},
   "source": [
    "The result is a DataFrame showing the average price change per bus for each scenario comparison."
   ]
  },
  {
   "cell_type": "markdown",
   "id": "d50f2381f10d403e",
   "metadata": {},
   "source": [
    "### Combining Scenarios and Comparisons\n",
    "\n",
    "To analyze both raw values and deltas in one operation:"
   ]
  },
  {
   "cell_type": "code",
   "id": "52b4f5d32d018404",
   "metadata": {
    "ExecuteTime": {
     "end_time": "2025-07-31T13:08:10.584176Z",
     "start_time": "2025-07-31T13:08:10.504786Z"
    }
   },
   "source": [
    "df_price_all = study.scen_comp.fetch('buses_t.marginal_price')\n",
    "print(df_price_all.head())"
   ],
   "outputs": [
    {
     "name": "stdout",
     "output_type": "stream",
     "text": [
      "type                scenario               ...       comparison               \n",
      "dataset                 base               ... wind_200 vs base               \n",
      "Bus                        1    10    100  ...               98    99 99_220kV\n",
      "snapshot                                   ...                                \n",
      "2011-01-01 00:00:00    -0.44  5.77  23.12  ...            -1.82  0.10     0.11\n",
      "2011-01-01 01:00:00    -0.58  6.10  22.53  ...            -2.02 -0.81    -0.82\n",
      "2011-01-01 02:00:00    -0.58  6.07  22.11  ...            -2.01 -2.26    -2.26\n",
      "2011-01-01 03:00:00    -0.60  6.14  21.50  ...            -2.15 -3.48    -3.48\n",
      "2011-01-01 04:00:00    -0.61  6.16  20.39  ...            -2.15 -5.06    -5.05\n",
      "\n",
      "[5 rows x 5265 columns]\n"
     ]
    }
   ],
   "execution_count": 6
  },
  {
   "cell_type": "markdown",
   "id": "c84f698d3981d0b8",
   "metadata": {},
   "source": [
    "This DataFrame contains both the scenario data and comparison data, distinguished by the 'type' level in the MultiIndex."
   ]
  },
  {
   "cell_type": "markdown",
   "id": "b5e580e248ffaf6d",
   "metadata": {},
   "source": [
    "### Unified Analysis\n",
    "\n",
    "We can perform operations on this unified structure:"
   ]
  },
  {
   "cell_type": "code",
   "id": "b68b60f156318d36",
   "metadata": {
    "ExecuteTime": {
     "end_time": "2025-07-31T13:08:10.588659Z",
     "start_time": "2025-07-31T13:08:10.584800Z"
    }
   },
   "source": [
    "df_price_all_mean = df_price_all.mean().droplevel('type').unstack('dataset').sort_index(axis=1)\n",
    "print(df_price_all_mean)"
   ],
   "outputs": [
    {
     "name": "stdout",
     "output_type": "stream",
     "text": [
      "dataset     base  solar_150  solar_150 vs base  ...  wind_150 vs base  wind_200  wind_200 vs base\n",
      "Bus                                             ...                                              \n",
      "1           7.68       7.89               0.21  ...             -6.64      0.38             -7.29\n",
      "10         10.99      11.25               0.25  ...             -6.22      2.78             -8.21\n",
      "100        21.88      21.17              -0.71  ...             -1.50     18.48             -3.40\n",
      "100_220kV  21.98      21.26              -0.72  ...             -1.50     18.57             -3.41\n",
      "101         8.25       8.39               0.14  ...             -6.12      0.74             -7.51\n",
      "...          ...        ...                ...  ...               ...       ...               ...\n",
      "96_220kV   13.21      13.04              -0.17  ...             -4.03      8.40             -4.81\n",
      "97         21.29      20.59              -0.69  ...             -1.39     18.73             -2.56\n",
      "98          8.58       8.74               0.17  ...             -6.16      0.97             -7.61\n",
      "99         22.22      21.51              -0.71  ...             -1.32     19.01             -3.21\n",
      "99_220kV   22.20      21.49              -0.71  ...             -1.34     18.97             -3.23\n",
      "\n",
      "[585 rows x 9 columns]\n"
     ]
    }
   ],
   "execution_count": 7
  },
  {
   "cell_type": "markdown",
   "id": "8ebc3d38b975ddeb",
   "metadata": {},
   "source": [
    "This creates a table with average prices and deltas side by side, sorted alphabetically by dataset name."
   ]
  },
  {
   "cell_type": "markdown",
   "id": "3940a48785fd10c7",
   "metadata": {},
   "source": [
    "## Integrating Model Data with Time Series\n",
    "\n",
    "A powerful MESCAL capability is the integration of static model data with time series data."
   ]
  },
  {
   "cell_type": "markdown",
   "id": "dd83cce2a350adf8",
   "metadata": {},
   "source": [
    "### Accessing Model Data"
   ]
  },
  {
   "cell_type": "code",
   "id": "5a49df3b7f46836f",
   "metadata": {
    "ExecuteTime": {
     "end_time": "2025-07-31T13:08:10.604464Z",
     "start_time": "2025-07-31T13:08:10.589237Z"
    }
   },
   "source": [
    "buses_model_df = study.scen.get_dataset('base').fetch('buses')\n",
    "print(buses_model_df)"
   ],
   "outputs": [
    {
     "name": "stdout",
     "output_type": "stream",
     "text": [
      "           v_nom type      x  ...                                      wkt_srid_4326                   location control_area\n",
      "Bus                           ...                                                                                           \n",
      "1          220.0        9.52  ...  SRID=4326;POINT(9.52257596986262 52.3604090557...   POINT (9.52258 52.36041)     TenneTDE\n",
      "2          380.0        9.11  ...  SRID=4326;POINT(9.11321007472722 52.5438533223...   POINT (9.11321 52.54385)     TenneTDE\n",
      "3          380.0        9.39  ...  SRID=4326;POINT(9.38974509624863 52.0263130660...   POINT (9.38975 52.02631)     TenneTDE\n",
      "4          380.0        9.13  ...  SRID=4326;POINT(9.12526570294975 52.5382640870...   POINT (9.12527 52.53826)     TenneTDE\n",
      "5          380.0       10.37  ...  SRID=4326;POINT(10.3662749375017 52.2846467462...  POINT (10.36627 52.28465)     TenneTDE\n",
      "...          ...  ...    ...  ...                                                ...                        ...          ...\n",
      "404_220kV  220.0        8.23  ...  SRID=4326;POINT(8.23209442033504 47.5561434831...   POINT (8.23209 47.55614)   TransnetBW\n",
      "413_220kV  220.0        8.67  ...  SRID=4326;POINT(8.67371728898445 49.2904393851...   POINT (8.67372 49.29044)   TransnetBW\n",
      "421_220kV  220.0        9.09  ...  SRID=4326;POINT(9.09183529743294 49.2946188662...   POINT (9.09184 49.29462)   TransnetBW\n",
      "450_220kV  220.0        7.42  ...  SRID=4326;POINT(7.41670791195847 51.4570521583...   POINT (7.41671 51.45705)      Amprion\n",
      "458_220kV  220.0        7.42  ...  SRID=4326;POINT(7.41946378046051 51.4575100936...   POINT (7.41946 51.45751)      Amprion\n",
      "\n",
      "[585 rows x 21 columns]\n"
     ]
    }
   ],
   "execution_count": 8
  },
  {
   "cell_type": "markdown",
   "id": "72d549b4e12813af",
   "metadata": {},
   "source": [
    "### Filtering by Model Properties\n",
    "\n",
    "Let's filter our time series to include only high voltage buses (v_nom >= 380 kV):"
   ]
  },
  {
   "cell_type": "code",
   "id": "7ceb8d40d892a2b8",
   "metadata": {
    "ExecuteTime": {
     "end_time": "2025-07-31T13:08:10.621980Z",
     "start_time": "2025-07-31T13:08:10.604983Z"
    }
   },
   "source": [
    "filtered_price_df = filter_by_model_query(df_price_all, buses_model_df, 'v_nom >= 380')\n",
    "print(filtered_price_df.head())"
   ],
   "outputs": [
    {
     "name": "stdout",
     "output_type": "stream",
     "text": [
      "type                scenario               ...       comparison            \n",
      "dataset                 base               ... wind_200 vs base            \n",
      "Bus                       10    100   101  ...               97    98    99\n",
      "snapshot                                   ...                             \n",
      "2011-01-01 00:00:00     5.77  23.12  1.36  ...            -1.10 -1.82  0.10\n",
      "2011-01-01 01:00:00     6.10  22.53  1.35  ...             0.51 -2.02 -0.81\n",
      "2011-01-01 02:00:00     6.07  22.11  1.34  ...            -1.21 -2.01 -2.26\n",
      "2011-01-01 03:00:00     6.14  21.50  1.38  ...            -2.35 -2.15 -3.48\n",
      "2011-01-01 04:00:00     6.16  20.39  1.41  ...            -5.12 -2.15 -5.06\n",
      "\n",
      "[5 rows x 2592 columns]\n"
     ]
    }
   ],
   "execution_count": 9
  },
  {
   "cell_type": "markdown",
   "id": "6826bcec5e71b452",
   "metadata": {},
   "source": [
    "The `filter_by_model_query` utility applies pandas query syntax to filter time series based on model properties."
   ]
  },
  {
   "cell_type": "markdown",
   "id": "f01511bbb0dea15",
   "metadata": {},
   "source": [
    "### Prepending Model Properties\n",
    "\n",
    "We can add model properties as additional index levels:"
   ]
  },
  {
   "cell_type": "code",
   "id": "95f63c7f0a478ea4",
   "metadata": {
    "ExecuteTime": {
     "end_time": "2025-07-31T13:08:10.627658Z",
     "start_time": "2025-07-31T13:08:10.622542Z"
    }
   },
   "source": [
    "price_with_control_area = prepend_model_prop_levels(filtered_price_df, buses_model_df, 'control_area')\n",
    "print(price_with_control_area.head())"
   ],
   "outputs": [
    {
     "name": "stdout",
     "output_type": "stream",
     "text": [
      "control_area         50Hertz  Amprion  50Hertz  ...         TenneTDE          50Hertz          Amprion\n",
      "type                scenario scenario scenario  ...       comparison       comparison       comparison\n",
      "dataset                 base     base     base  ... wind_200 vs base wind_200 vs base wind_200 vs base\n",
      "Bus                       10      100      101  ...               97               98               99\n",
      "snapshot                                        ...                                                   \n",
      "2011-01-01 00:00:00     5.77    23.12     1.36  ...            -1.10            -1.82             0.10\n",
      "2011-01-01 01:00:00     6.10    22.53     1.35  ...             0.51            -2.02            -0.81\n",
      "2011-01-01 02:00:00     6.07    22.11     1.34  ...            -1.21            -2.01            -2.26\n",
      "2011-01-01 03:00:00     6.14    21.50     1.38  ...            -2.35            -2.15            -3.48\n",
      "2011-01-01 04:00:00     6.16    20.39     1.41  ...            -5.12            -2.15            -5.06\n",
      "\n",
      "[5 rows x 2592 columns]\n"
     ]
    }
   ],
   "execution_count": 10
  },
  {
   "cell_type": "markdown",
   "id": "86829992d6369676",
   "metadata": {},
   "source": [
    "This operation adds the 'control_area' property from the bus model as a new level in our multi-index DataFrame."
   ]
  },
  {
   "cell_type": "markdown",
   "id": "e295c06a4286d6dd",
   "metadata": {},
   "source": [
    "### Aggregating by Model Properties\n",
    "\n",
    "Now we can efficiently aggregate by control area:"
   ]
  },
  {
   "cell_type": "code",
   "id": "eab3713ec0ce1cf4",
   "metadata": {
    "ExecuteTime": {
     "end_time": "2025-07-31T13:08:10.633012Z",
     "start_time": "2025-07-31T13:08:10.629197Z"
    }
   },
   "source": [
    "price_by_control_area = price_with_control_area.mean().groupby(level=['control_area', 'dataset']).mean().unstack('control_area')\n",
    "print(price_by_control_area)"
   ],
   "outputs": [
    {
     "name": "stdout",
     "output_type": "stream",
     "text": [
      "control_area       50Hertz  Amprion  TenneTDE  TransnetBW\n",
      "dataset                                                  \n",
      "base                 11.66    18.88     15.09       23.33\n",
      "solar_150            11.63    18.26     14.64       22.74\n",
      "solar_150 vs base    -0.03    -0.63     -0.45       -0.59\n",
      "solar_200            11.45    17.79     14.29       22.18\n",
      "solar_200 vs base    -0.21    -1.09     -0.80       -1.16\n",
      "wind_150              7.09    17.08     12.08       22.66\n",
      "wind_150 vs base     -4.57    -1.81     -3.01       -0.67\n",
      "wind_200              4.77    15.64     10.42       21.04\n",
      "wind_200 vs base     -6.89    -3.24     -4.67       -2.29\n"
     ]
    }
   ],
   "execution_count": 11
  },
  {
   "cell_type": "markdown",
   "id": "68abc37327ffe4c8",
   "metadata": {},
   "source": [
    "## Sophisticated Visualization Example\n",
    "\n",
    "Let's demonstrate these techniques with a more sophisticated visualization. We'll create a boxplot showing the distribution of hourly prices by control area and scenario:"
   ]
  },
  {
   "cell_type": "code",
   "id": "88c05acb55c0d68",
   "metadata": {
    "ExecuteTime": {
     "end_time": "2025-07-31T13:08:11.273698Z",
     "start_time": "2025-07-31T13:08:10.633578Z"
    }
   },
   "source": [
    "buses_model_df = study.scen.get_dataset('base').fetch('buses')\n",
    "data = study.scen_comp.fetch('buses_t.marginal_price')\n",
    "data = filter_by_model_query(data, buses_model_df, query='v_nom >= 380')\n",
    "data = prepend_model_prop_levels(data, buses_model_df, 'control_area')\n",
    "data = data.T.groupby(level=['dataset', 'control_area']).mean().T\n",
    "data_flat = flatten_df(data)\n",
    "fig = px.box(\n",
    "    data_frame=data_flat,\n",
    "    x='control_area',\n",
    "    color='dataset',\n",
    "    y='value',\n",
    "    category_orders={'control_area': ['Amprion', 'TransnetBW', 'TenneTDE', '50Hertz']},\n",
    "    labels={'value': 'Hourly marginal price [€/MWh]'},\n",
    ")\n",
    "fig.update_traces(boxmean=True)\n",
    "fig.update_layout(title='<b>Distribution of hourly price occurrences per scenario (price change per comparison)</b>', width=1200)\n",
    "fig.update_xaxes(title=None)\n",
    "\n",
    "renderer.show_plotly(fig)"
   ],
   "outputs": [
    {
     "name": "stderr",
     "output_type": "stream",
     "text": [
      "/Users/helgeesch/Documents/repositories/mescal-vanilla-studies/venv/lib/python3.12/site-packages/_plotly_utils/basevalidators.py:2596: DeprecationWarning:\n",
      "\n",
      "*scattermapbox* is deprecated! Use *scattermap* instead. Learn more at: https://plotly.com/python/mapbox-to-maplibre/\n",
      "\n",
      "/Users/helgeesch/Documents/repositories/mescal-vanilla-studies/venv/lib/python3.12/site-packages/_plotly_utils/basevalidators.py:2596: DeprecationWarning:\n",
      "\n",
      "*scattermapbox* is deprecated! Use *scattermap* instead. Learn more at: https://plotly.com/python/mapbox-to-maplibre/\n",
      "\n",
      "/Users/helgeesch/Documents/repositories/mescal-vanilla-studies/venv/lib/python3.12/site-packages/_plotly_utils/basevalidators.py:2596: DeprecationWarning:\n",
      "\n",
      "*scattermapbox* is deprecated! Use *scattermap* instead. Learn more at: https://plotly.com/python/mapbox-to-maplibre/\n",
      "\n",
      "/Users/helgeesch/Documents/repositories/mescal-vanilla-studies/venv/lib/python3.12/site-packages/kaleido/scopes/base.py:188: DeprecationWarning:\n",
      "\n",
      "setDaemon() is deprecated, set the daemon attribute instead\n",
      "\n"
     ]
    },
    {
     "data": {
      "image/png": "[encoded data removed]",
      "text/plain": [
       "<IPython.core.display.Image object>"
      ]
     },
     "metadata": {},
     "output_type": "display_data"
    }
   ],
   "execution_count": 12
  },
  {
   "cell_type": "markdown",
   "id": "a083003e2dd6e22b",
   "metadata": {},
   "source": [
    "## Advanced Transformation Pipeline\n",
    "\n",
    "Let's trace through a complete data transformation pipeline that demonstrates MESCAL's efficiency:"
   ]
  },
  {
   "cell_type": "code",
   "id": "699bee7187d0a48e",
   "metadata": {
    "ExecuteTime": {
     "end_time": "2025-07-31T13:08:11.386373Z",
     "start_time": "2025-07-31T13:08:11.274343Z"
    }
   },
   "source": [
    "# Start with raw data\n",
    "df_raw = study.scen_comp.fetch('buses_t.marginal_price')\n",
    "\n",
    "# Filter to high voltage buses\n",
    "buses_model_df = study.scen.get_dataset('base').fetch('buses')\n",
    "df_filtered = filter_by_model_query(df_raw, buses_model_df, 'v_nom >= 380')\n",
    "\n",
    "# Add control area information\n",
    "df_with_areas = prepend_model_prop_levels(df_filtered, buses_model_df, 'control_area')\n",
    "\n",
    "# Calculate hourly area prices\n",
    "hourly_area_prices = df_with_areas.T.groupby(['dataset', 'control_area']).mean().T.unstack()\n",
    "\n",
    "# Reshape for analysis\n",
    "area_price_stats = hourly_area_prices.groupby(['dataset', 'control_area']).agg(['mean', 'std', 'min', 'max'])\n",
    "\n",
    "print(area_price_stats)"
   ],
   "outputs": [
    {
     "name": "stdout",
     "output_type": "stream",
     "text": [
      "                                 mean   std    min    max\n",
      "dataset           control_area                           \n",
      "base              50Hertz       11.66  4.90   7.54  22.37\n",
      "                  Amprion       18.88  3.17  14.31  23.37\n",
      "                  TenneTDE      15.09  4.93   8.25  22.19\n",
      "                  TransnetBW    23.33  2.80  19.34  25.85\n",
      "solar_150         50Hertz       11.63  4.88   7.62  22.17\n",
      "                  Amprion       18.26  3.83  12.23  23.38\n",
      "                  TenneTDE      14.64  5.38   6.99  22.07\n",
      "                  TransnetBW    22.74  3.43  16.90  25.85\n",
      "solar_150 vs base 50Hertz       -0.03  0.17  -0.48   0.26\n",
      "                  Amprion       -0.63  0.92  -2.59   0.15\n",
      "                  TenneTDE      -0.45  0.76  -2.27   0.51\n",
      "                  TransnetBW    -0.59  1.02  -4.12   0.07\n",
      "solar_200         50Hertz       11.45  4.87   6.85  21.82\n",
      "                  Amprion       17.79  4.25  11.10  23.27\n",
      "                  TenneTDE      14.29  5.63   6.32  22.00\n",
      "                  TransnetBW    22.18  4.14  14.74  25.85\n",
      "solar_200 vs base 50Hertz       -0.21  0.25  -0.81   0.27\n",
      "                  Amprion       -1.09  1.48  -4.50   0.09\n",
      "                  TenneTDE      -0.80  1.20  -3.94   0.55\n",
      "                  TransnetBW    -1.16  1.66  -4.96   0.18\n",
      "wind_150          50Hertz        7.09  2.57   4.44  14.42\n",
      "                  Amprion       17.08  2.48  12.77  20.28\n",
      "                  TenneTDE      12.08  3.11   7.18  17.09\n",
      "                  TransnetBW    22.66  3.35  18.08  25.88\n",
      "wind_150 vs base  50Hertz       -4.57  2.69  -8.67  -1.05\n",
      "                  Amprion       -1.81  1.33  -3.49   0.88\n",
      "                  TenneTDE      -3.01  2.22  -6.34  -0.06\n",
      "                  TransnetBW    -0.67  1.01  -4.21   0.14\n",
      "wind_200          50Hertz        4.77  2.16   2.01   8.85\n",
      "                  Amprion       15.64  3.20  10.32  19.47\n",
      "                  TenneTDE      10.42  3.47   4.93  15.57\n",
      "                  TransnetBW    21.04  5.06  12.37  25.94\n",
      "wind_200 vs base  50Hertz       -6.89  2.99 -13.52  -2.81\n",
      "                  Amprion       -3.24  1.21  -5.10   0.26\n",
      "                  TenneTDE      -4.67  2.20  -8.58  -0.60\n",
      "                  TransnetBW    -2.29  2.50  -7.52   0.19\n"
     ]
    }
   ],
   "execution_count": 13
  },
  {
   "cell_type": "markdown",
   "id": "cae8f1ef1077c3ea",
   "metadata": {},
   "source": [
    "What would normally take dozens of lines of data manipulation code is condensed into a few expressive operations that maintain the relationships between different types of data."
   ]
  },
  {
   "cell_type": "markdown",
   "id": "3bd1390aaaff8db",
   "metadata": {},
   "source": [
    "## Key Takeaways\n",
    "\n",
    "- **Unified Analysis**: Work with scenarios and comparisons in the same analytical framework\n",
    "- **Model and Time-Series Data Fetching**: Unified framework for fetching model and time-series data\n",
    "- **Useful Integration Utilities**: MESCAL provides tools like `filter_by_model_query` and `prepend_model_prop_levels` that efficiently establish relationships between model properties and time series data and provide frequently needed filtering and property mapping features\n",
    "\n",
    "These capabilities make MESCAL particularly powerful for complex multi-scenario analyses that would otherwise require extensive custom code."
   ]
  }
 ],
 "metadata": {
  "kernelspec": {
   "display_name": "Python 3 (ipykernel)",
   "language": "python",
   "name": "python3"
  },
  "language_info": {
   "codemirror_mode": {
    "name": "ipython",
    "version": 3
   },
   "file_extension": ".py",
   "mimetype": "text/x-python",
   "name": "python",
   "nbconvert_exporter": "python",
   "pygments_lexer": "ipython3",
   "version": "3.12.1"
  }
 },
 "nbformat": 4,
 "nbformat_minor": 5
}
